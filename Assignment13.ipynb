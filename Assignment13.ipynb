{
 "cells": [
  {
   "cell_type": "markdown",
   "metadata": {},
   "source": [
    "**1. What advantages do Excel spreadsheets have over CSV spreadsheets?**"
   ]
  },
  {
   "cell_type": "markdown",
   "metadata": {},
   "source": [
    "1.Microsoft Excel is used to displays the data in horizontal and vertical rows. The data are usually stored in the cells.\n",
    "<br>\n",
    "2.We have an option of formulas in Excel that can be used for data and its place of storage. You can even add any charts, graphics, etc. to make it more presentable.It is easier for the end user to read large files.\n",
    "<br>\n",
    "3.CSV refers to Comma-Separated Values. It holds plain text as a series of values (cells) separated by commas (, ) in a series of lines (rows).CSV files are plain-text files, Does not contain formatting, formulas, macros, etc. It is also known as flat files"
   ]
  },
  {
   "cell_type": "markdown",
   "metadata": {},
   "source": [
    "**2.What do you pass to csv.reader() and csv.writer() to create reader and writer objects?**"
   ]
  },
  {
   "cell_type": "code",
   "execution_count": 1,
   "metadata": {},
   "outputs": [],
   "source": [
    "import csv\n",
    "with open('test.csv', 'w', newline='') as file:\n",
    "    writer = csv.writer(file)\n",
    "    writer.writerow(['Name', 'Age', 'Profession'])\n",
    "    writer.writerow(['Jack', '23', 'Doctor'])\n",
    "    writer.writerow(['Miller', '22', 'Engineer'])"
   ]
  },
  {
   "cell_type": "code",
   "execution_count": 2,
   "metadata": {},
   "outputs": [
    {
     "name": "stdout",
     "output_type": "stream",
     "text": [
      "['Name', 'Age', 'Profession']\n",
      "['Jack', '23', 'Doctor']\n",
      "['Miller', '22', 'Engineer']\n"
     ]
    }
   ],
   "source": [
    "import csv\n",
    "with open('test.csv', 'r') as file:\n",
    "    reader = csv.reader(file)\n",
    "    for row in reader:\n",
    "        print(row)"
   ]
  },
  {
   "cell_type": "markdown",
   "metadata": {},
   "source": [
    "**3. What modes do File objects for reader and writer objects need to be opened in?**"
   ]
  },
  {
   "cell_type": "markdown",
   "metadata": {},
   "source": [
    "or csv.reader(iterable_file_object), the file objects needed to be opened in read mode mode='r' Whereas for csv.writer(iterable_file_object) the file objects needed to be opened in write mode mode='w'"
   ]
  },
  {
   "cell_type": "markdown",
   "metadata": {},
   "source": [
    "**4. What method takes a list argument and writes it to a CSV file?**"
   ]
  },
  {
   "cell_type": "markdown",
   "metadata": {},
   "source": [
    "csv.writer class provides two methods for writing to CSV. They are writerow() and writerows().\n",
    "<br>\n",
    "Use **writerow** method to write the first row which is nothing but the field names. \n",
    "We use **writerows** method to write multiple rows at once."
   ]
  },
  {
   "cell_type": "code",
   "execution_count": 3,
   "metadata": {},
   "outputs": [],
   "source": [
    "import csv\n",
    "  \n",
    "fields = ['Name', 'Branch', 'Year', 'CGPA']\n",
    "\n",
    "rows = [ \n",
    "            ['Nikhil', 'COE', '2', '9.0'],  \n",
    "            ['Sanchit', 'COE', '2', '9.1'], \n",
    "            ['Ravi', 'IT', '2', '9.3']\n",
    "       ] \n",
    "with open(\"university_records.csv\", 'w') as csvfile: \n",
    "    csvwriter = csv.writer(csvfile)\n",
    "    csvwriter.writerow(fields) \n",
    "    csvwriter.writerows(rows) "
   ]
  },
  {
   "cell_type": "markdown",
   "metadata": {},
   "source": [
    "**5. What do the keyword arguments delimiter and line terminator do?**"
   ]
  },
  {
   "cell_type": "markdown",
   "metadata": {},
   "source": [
    "The delimiter is the character that appears between cells on a row. By default, the delimiter for a CSV file is a comma. The line terminator is the character that comes at the end of a row. By default, the line terminator is a newline"
   ]
  },
  {
   "cell_type": "code",
   "execution_count": null,
   "metadata": {},
   "outputs": [],
   "source": [
    "import csv\n",
    "csvFile = open('example.tsv', 'w', newline='')\n",
    "csvWriter = csv.writer(csvFile, delimiter='\\t', lineterminator='\\n\\n')\n",
    "csvWriter.writerow(['apples', 'oranges', 'grapes'])\n",
    "csvWriter.writerow(['eggs', 'bacon', 'ham'])\n",
    "csvFile.close()"
   ]
  },
  {
   "cell_type": "markdown",
   "metadata": {},
   "source": [
    "**6. What function takes a string of JSON data and returns a Python data structure?**"
   ]
  },
  {
   "cell_type": "markdown",
   "metadata": {},
   "source": [
    "loads() method return Python data structure of JSON string or data."
   ]
  },
  {
   "cell_type": "code",
   "execution_count": 5,
   "metadata": {},
   "outputs": [
    {
     "name": "stdout",
     "output_type": "stream",
     "text": [
      "30\n"
     ]
    }
   ],
   "source": [
    "import json\n",
    "\n",
    "x = '{ \"name\":\"John\", \"age\":30, \"city\":\"New York\"}'\n",
    "\n",
    "# parse x:\n",
    "y = json.loads(x)\n",
    "\n",
    "\n",
    "print(y[\"age\"])"
   ]
  },
  {
   "cell_type": "markdown",
   "metadata": {},
   "source": [
    "**7. What function takes a Python data structure and returns a string of JSON data?**"
   ]
  },
  {
   "cell_type": "markdown",
   "metadata": {},
   "source": [
    "dumps() method takes a python data structure and returns a string of JSON data"
   ]
  },
  {
   "cell_type": "code",
   "execution_count": 15,
   "metadata": {},
   "outputs": [
    {
     "name": "stdout",
     "output_type": "stream",
     "text": [
      "{\n",
      "      \"age\": \"34\",\n",
      "      \"designation\": \"programmer\",\n",
      "      \"name\": \"Lisa\",\n",
      "      \"salary\": \"54000\"\n",
      "}\n"
     ]
    }
   ],
   "source": [
    "import json\n",
    "  \n",
    "# python object(dictionary) to be dumped\n",
    "dict1 ={\n",
    "        \"name\": \"Lisa\",\n",
    "        \"designation\": \"programmer\",\n",
    "        \"age\": \"34\",\n",
    "        \"salary\": \"54000\"\n",
    "    }\n",
    "  \n",
    "\n",
    "details=json.dumps(dict1, indent = 6,sort_keys=True)\n",
    "print(details)\n",
    "  \n"
   ]
  }
 ],
 "metadata": {
  "kernelspec": {
   "display_name": "Python 3",
   "language": "python",
   "name": "python3"
  },
  "language_info": {
   "codemirror_mode": {
    "name": "ipython",
    "version": 3
   },
   "file_extension": ".py",
   "mimetype": "text/x-python",
   "name": "python",
   "nbconvert_exporter": "python",
   "pygments_lexer": "ipython3",
   "version": "3.6.5"
  }
 },
 "nbformat": 4,
 "nbformat_minor": 2
}
