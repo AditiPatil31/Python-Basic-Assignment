{
 "cells": [
  {
   "cell_type": "markdown",
   "metadata": {},
   "source": [
    "**1. What are escape characters, and how do you use them?**"
   ]
  },
  {
   "cell_type": "markdown",
   "metadata": {},
   "source": [
    "To insert a character that are illegal in string,use escape character. An escape character is a backslash followed by character you want to insert.An example of an illegal character is a double quote inside a string that is surrounded by double quotes"
   ]
  },
  {
   "cell_type": "code",
   "execution_count": 5,
   "metadata": {},
   "outputs": [
    {
     "name": "stdout",
     "output_type": "stream",
     "text": [
      "We are so-called \"vikings\" from the north\n"
     ]
    }
   ],
   "source": [
    "txt=\"We are so-called \\\"vikings\\\" from the north\"\n",
    "print(txt)"
   ]
  },
  {
   "cell_type": "markdown",
   "metadata": {},
   "source": [
    "**2. What do the escape characters n and t stand for?**"
   ]
  },
  {
   "cell_type": "markdown",
   "metadata": {},
   "source": [
    "\"\\n\"  is newLine and  \"\\t\"  is a tab."
   ]
  },
  {
   "cell_type": "markdown",
   "metadata": {},
   "source": [
    "**3. What is the way to include backslash characters in a string?**"
   ]
  },
  {
   "cell_type": "markdown",
   "metadata": {},
   "source": [
    "The  \\\\ represents backslash character in string."
   ]
  },
  {
   "cell_type": "markdown",
   "metadata": {},
   "source": [
    "**4. The string \"Howl's Moving Castle\" is a correct value. Why isn't the single quote character in the word Howl's not escaped a problem?**"
   ]
  },
  {
   "cell_type": "markdown",
   "metadata": {},
   "source": [
    "The string \"Howl's Moving Castle\" is a correct value as it is wrapped in double quotes.\n",
    "<br>\n",
    "If it is closed inside a pair of single quotes, then the interpreter will get confused and give an error output.\n",
    "<br>\n",
    "The interpreter is confused, it can't find the starting position of a single quote since it occurred three times."
   ]
  },
  {
   "cell_type": "code",
   "execution_count": 11,
   "metadata": {},
   "outputs": [
    {
     "ename": "SyntaxError",
     "evalue": "invalid syntax (<ipython-input-11-d2bce7688c4a>, line 1)",
     "output_type": "error",
     "traceback": [
      "\u001b[1;36m  File \u001b[1;32m\"<ipython-input-11-d2bce7688c4a>\"\u001b[1;36m, line \u001b[1;32m1\u001b[0m\n\u001b[1;33m    print('Howl's Moving Castle')\u001b[0m\n\u001b[1;37m                ^\u001b[0m\n\u001b[1;31mSyntaxError\u001b[0m\u001b[1;31m:\u001b[0m invalid syntax\n"
     ]
    }
   ],
   "source": [
    "print('Howl's Moving Castle')"
   ]
  },
  {
   "cell_type": "code",
   "execution_count": 12,
   "metadata": {},
   "outputs": [
    {
     "name": "stdout",
     "output_type": "stream",
     "text": [
      "Howl's Moving Castle\n"
     ]
    }
   ],
   "source": [
    "#use escape sequence\n",
    "print('Howl\\'s Moving Castle')"
   ]
  },
  {
   "cell_type": "markdown",
   "metadata": {},
   "source": [
    "**5. How do you write a string of newlines if you don't want to use the n character?**"
   ]
  },
  {
   "cell_type": "markdown",
   "metadata": {},
   "source": [
    "Multiline string allows you to use newline in string without using \\n"
   ]
  },
  {
   "cell_type": "code",
   "execution_count": 21,
   "metadata": {},
   "outputs": [
    {
     "name": "stdout",
     "output_type": "stream",
     "text": [
      "how are\n",
      "you\n"
     ]
    }
   ],
   "source": [
    "s=\"\"\"how are\n",
    "you\"\"\"\n",
    "print(s)"
   ]
  },
  {
   "cell_type": "markdown",
   "metadata": {},
   "source": [
    "**6. What are the values of the given expressions?**\n",
    "<br>\n",
    "'Hello, world!'[1]\n",
    "<br>\n",
    "'Hello, world!'[0:5]\n",
    "<br>\n",
    "'Hello, world!'[:5]\n",
    "<br>\n",
    "'Hello, world!'[3:]\n"
   ]
  },
  {
   "cell_type": "markdown",
   "metadata": {},
   "source": [
    "'Hello, world!'[1] --> e\n",
    "<br>\n",
    "'Hello, world!'[0:5] --> Hello\n",
    "<br>\n",
    "'Hello, world!'[:5] --> Hello\n",
    "<br>\n",
    "'Hello, world!'[3:] --> lo, world!"
   ]
  },
  {
   "cell_type": "markdown",
   "metadata": {},
   "source": [
    "**7. What are the values of the following expressions?**\n",
    "<br>\n",
    "'Hello'.upper()\n",
    "<br>\n",
    "'Hello'.upper().isupper()\n",
    "<br>\n",
    "'Hello'.upper().lower()\n"
   ]
  },
  {
   "cell_type": "markdown",
   "metadata": {},
   "source": [
    "'Hello'.upper() --> HELLO\n",
    "<br>\n",
    "'Hello'.upper().isupper() --> True\n",
    "<br>\n",
    "'Hello'.upper().lower() --> hello"
   ]
  },
  {
   "cell_type": "markdown",
   "metadata": {},
   "source": [
    "**8. What are the values of the following expressions?**\n",
    "<br>\n",
    "'Remember, remember, the fifth of July.'.split()\n",
    "<br>\n",
    "'-'.join('There can only one.'.split())\n"
   ]
  },
  {
   "cell_type": "markdown",
   "metadata": {},
   "source": [
    "'Remember, remember, the fifth of July.'.split() --> ['Remember,', 'remember,', 'the', 'fifth', 'of', 'July.']\n",
    "<br>\n",
    "'-'.join('There can only one.'.split())--> There-can-only-one."
   ]
  },
  {
   "cell_type": "markdown",
   "metadata": {},
   "source": [
    "**9. What are the methods for right-justifying, left-justifying, and centering a string?**"
   ]
  },
  {
   "cell_type": "markdown",
   "metadata": {},
   "source": [
    "The rjust(),ljust(),center() string methods, respectively."
   ]
  },
  {
   "cell_type": "markdown",
   "metadata": {},
   "source": [
    "**10. What is the best way to remove whitespace characters from the start or end?**"
   ]
  },
  {
   "cell_type": "markdown",
   "metadata": {},
   "source": [
    "The lstrip() and rstrip() methods remove whitespace characters from left and right end of the string respectively."
   ]
  }
 ],
 "metadata": {
  "kernelspec": {
   "display_name": "Python 3",
   "language": "python",
   "name": "python3"
  },
  "language_info": {
   "codemirror_mode": {
    "name": "ipython",
    "version": 3
   },
   "file_extension": ".py",
   "mimetype": "text/x-python",
   "name": "python",
   "nbconvert_exporter": "python",
   "pygments_lexer": "ipython3",
   "version": "3.6.5"
  }
 },
 "nbformat": 4,
 "nbformat_minor": 2
}
