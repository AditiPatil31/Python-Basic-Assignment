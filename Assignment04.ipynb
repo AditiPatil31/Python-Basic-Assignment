{
 "cells": [
  {
   "cell_type": "markdown",
   "metadata": {},
   "source": [
    "**1. What exactly is []?**"
   ]
  },
  {
   "cell_type": "markdown",
   "metadata": {},
   "source": [
    "[] is an **empty list.**,list that contains no items."
   ]
  },
  {
   "cell_type": "markdown",
   "metadata": {},
   "source": [
    "**2. In a list of values stored in a variable called spam, how would you assign the value 'hello' as the third value? (Assume [2, 4, 6, 8, 10] are in spam.)**"
   ]
  },
  {
   "cell_type": "code",
   "execution_count": 2,
   "metadata": {},
   "outputs": [
    {
     "name": "stdout",
     "output_type": "stream",
     "text": [
      "[2, 4, 'hello', 8, 10]\n"
     ]
    }
   ],
   "source": [
    "spam=[2,4,6,8,10]\n",
    "\n",
    "#assign 'hello' as third value\n",
    "spam[2]='hello'\n",
    "print(spam)"
   ]
  },
  {
   "cell_type": "markdown",
   "metadata": {},
   "source": [
    "**Let's pretend the spam includes the list ['a', 'b', 'c', 'd'] for the next three queries.**"
   ]
  },
  {
   "cell_type": "markdown",
   "metadata": {},
   "source": [
    "**3. What is the value of spam[int(int('3' * 2) / 11)]?**"
   ]
  },
  {
   "cell_type": "code",
   "execution_count": 7,
   "metadata": {},
   "outputs": [
    {
     "data": {
      "text/plain": [
       "'33'"
      ]
     },
     "execution_count": 7,
     "metadata": {},
     "output_type": "execute_result"
    }
   ],
   "source": [
    "'3'*2"
   ]
  },
  {
   "cell_type": "code",
   "execution_count": 8,
   "metadata": {},
   "outputs": [
    {
     "data": {
      "text/plain": [
       "3"
      ]
     },
     "execution_count": 8,
     "metadata": {},
     "output_type": "execute_result"
    }
   ],
   "source": [
    "#'33' is a string\n",
    "#convert string to int\n",
    "\n",
    "int(int('33')/11)"
   ]
  },
  {
   "cell_type": "code",
   "execution_count": 13,
   "metadata": {},
   "outputs": [
    {
     "name": "stdout",
     "output_type": "stream",
     "text": [
      " value of spam[int(int('3' * 2) / 11)] is  d\n"
     ]
    }
   ],
   "source": [
    "spam=['a', 'b', 'c', 'd']\n",
    "\n",
    "print(\" value of spam[int(int('3' * 2) / 11)] is \"  , spam[3])"
   ]
  },
  {
   "cell_type": "markdown",
   "metadata": {},
   "source": [
    "**4. What is the value of spam[-1]?**"
   ]
  },
  {
   "cell_type": "markdown",
   "metadata": {},
   "source": [
    "List supports negative indexing.Negative index starts from end of the list."
   ]
  },
  {
   "cell_type": "code",
   "execution_count": 14,
   "metadata": {},
   "outputs": [
    {
     "name": "stdout",
     "output_type": "stream",
     "text": [
      " spam[-1] is -->  d\n"
     ]
    }
   ],
   "source": [
    "spam=['a', 'b', 'c', 'd']\n",
    "\n",
    "print(\" spam[-1] is --> \"  , spam[-1])"
   ]
  },
  {
   "cell_type": "markdown",
   "metadata": {},
   "source": [
    "**5. What is the value of spam[:2]?**"
   ]
  },
  {
   "cell_type": "markdown",
   "metadata": {},
   "source": [
    "spam[:2] returns the elements from 0 to 2 excluding 2"
   ]
  },
  {
   "cell_type": "code",
   "execution_count": 17,
   "metadata": {},
   "outputs": [
    {
     "name": "stdout",
     "output_type": "stream",
     "text": [
      " spam[:2] is -->  ['a', 'b']\n"
     ]
    }
   ],
   "source": [
    "spam=['a', 'b', 'c', 'd']\n",
    "\n",
    "print(\" spam[:2] is --> \"  , spam[:2])"
   ]
  },
  {
   "cell_type": "markdown",
   "metadata": {},
   "source": [
    "**Let's pretend bacon has the list [3.14, 'cat,' 11, 'cat,' True] for the next three questions.**"
   ]
  },
  {
   "cell_type": "markdown",
   "metadata": {},
   "source": [
    "**6. What is the value of bacon.index('cat')?**"
   ]
  },
  {
   "cell_type": "markdown",
   "metadata": {},
   "source": [
    "index() returns the index of first occurrence of an item in list.As 'cat' occurs 2 times in bacon,index() will return index of first occurence."
   ]
  },
  {
   "cell_type": "code",
   "execution_count": 23,
   "metadata": {},
   "outputs": [
    {
     "name": "stdout",
     "output_type": "stream",
     "text": [
      "value of bacon.index('cat') --> 1\n"
     ]
    }
   ],
   "source": [
    "bacon= [3.14, 'cat', 11, 'cat', 'True']\n",
    "\n",
    "print(\"value of bacon.index('cat') -->\",bacon.index('cat'))"
   ]
  },
  {
   "cell_type": "markdown",
   "metadata": {},
   "source": [
    "**7. How does bacon.append(99) change the look of the list value in bacon?**"
   ]
  },
  {
   "cell_type": "markdown",
   "metadata": {},
   "source": [
    "The append() method appends an element to the end of the list.so 99 will get appended at the end of list."
   ]
  },
  {
   "cell_type": "code",
   "execution_count": 28,
   "metadata": {},
   "outputs": [
    {
     "name": "stdout",
     "output_type": "stream",
     "text": [
      "[3.14, 'cat', 11, 'cat', 'True']\n",
      "[3.14, 'cat', 11, 'cat', 'True', 99]\n"
     ]
    }
   ],
   "source": [
    "bacon= [3.14, 'cat', 11, 'cat', 'True']\n",
    "print(bacon)\n",
    "\n",
    "bacon.append(99) #appends element at the end of the list\n",
    "print(bacon)"
   ]
  },
  {
   "cell_type": "markdown",
   "metadata": {},
   "source": [
    "**8. How does bacon.remove('cat') change the look of the list in bacon?**"
   ]
  },
  {
   "cell_type": "markdown",
   "metadata": {},
   "source": [
    "If a list contains duplicate elements, the remove() method only removes the first matching element."
   ]
  },
  {
   "cell_type": "code",
   "execution_count": 30,
   "metadata": {},
   "outputs": [
    {
     "name": "stdout",
     "output_type": "stream",
     "text": [
      "[3.14, 'cat', 11, 'cat', 'True']\n",
      "[3.14, 11, 'cat', 'True']\n"
     ]
    }
   ],
   "source": [
    "bacon= [3.14, 'cat', 11, 'cat', 'True']\n",
    "print(bacon)\n",
    "\n",
    "bacon.remove('cat')\n",
    "print(bacon)"
   ]
  },
  {
   "cell_type": "markdown",
   "metadata": {},
   "source": [
    "**9. What are the list concatenation and list replication operators?**"
   ]
  },
  {
   "cell_type": "markdown",
   "metadata": {},
   "source": [
    "The operator for concatenation is *+* , while operator for list replication is  *"
   ]
  },
  {
   "cell_type": "code",
   "execution_count": 32,
   "metadata": {},
   "outputs": [
    {
     "name": "stdout",
     "output_type": "stream",
     "text": [
      "[1, 2, 3, 4, 5, 6, 7, 8]\n",
      "[1, 2, 3, 4, 1, 2, 3, 4]\n"
     ]
    }
   ],
   "source": [
    "list1=[1,2,3,4]\n",
    "list2=[5,6,7,8]\n",
    "\n",
    "#list concatenation\n",
    "print(list1+list2)\n",
    "\n",
    "#list operator\n",
    "print(list1*2)"
   ]
  },
  {
   "cell_type": "markdown",
   "metadata": {},
   "source": [
    "**10. What is difference between the list methods append() and insert()?**"
   ]
  },
  {
   "cell_type": "markdown",
   "metadata": {},
   "source": [
    "**append()** --> append method add element at the end of the list.The length of the list increases by 1.\n",
    "<br>\n",
    "**insert()** --> insert method allows us to add a specific element at the specified index in list."
   ]
  },
  {
   "cell_type": "code",
   "execution_count": 33,
   "metadata": {},
   "outputs": [
    {
     "name": "stdout",
     "output_type": "stream",
     "text": [
      "['mango', 'orange', 'banana', 'apple']\n",
      "['mango', 'orange', 'plum', 'banana', 'apple']\n"
     ]
    }
   ],
   "source": [
    "list1=['mango','orange','banana']\n",
    "\n",
    "#append()\n",
    "list1.append('apple')\n",
    "print(list1)\n",
    "\n",
    "#insert()\n",
    "list1.insert(2,'plum')\n",
    "print(list1)"
   ]
  },
  {
   "cell_type": "markdown",
   "metadata": {},
   "source": [
    "**11. What are the two methods for removing items from a list?**"
   ]
  },
  {
   "cell_type": "markdown",
   "metadata": {},
   "source": [
    "del statement and **remove()** method are used to remove items from list."
   ]
  },
  {
   "cell_type": "markdown",
   "metadata": {},
   "source": [
    "**del statement** --> Items of the list can be deleted using del statement by specifying the index of item (element) to be deleted.\n",
    "<br>\n",
    "**remove()** --> We can remove an item from the list by passing the value of the item to be deleted as the parameter to remove() function."
   ]
  },
  {
   "cell_type": "code",
   "execution_count": 46,
   "metadata": {},
   "outputs": [
    {
     "name": "stdout",
     "output_type": "stream",
     "text": [
      "['Rose', 'Lavender', 'Lily', 'Carnations']\n"
     ]
    }
   ],
   "source": [
    "list1 = ['Iris', 'Orchids', 'Rose', 'Lavender',\n",
    "       'Lily', 'Carnations']\n",
    "\n",
    "del list1[0:2]\n",
    "\n",
    "print(list1)"
   ]
  },
  {
   "cell_type": "code",
   "execution_count": 48,
   "metadata": {},
   "outputs": [
    {
     "name": "stdout",
     "output_type": "stream",
     "text": [
      "['Iris', 'Orchids', 'Rose', 'Lavender', 'Carnations']\n"
     ]
    }
   ],
   "source": [
    "list1 = ['Iris', 'Orchids', 'Rose', 'Lavender',\n",
    "       'Lily', 'Carnations']\n",
    "\n",
    "list1.remove('Lily')\n",
    "print(list1)"
   ]
  },
  {
   "cell_type": "markdown",
   "metadata": {},
   "source": [
    "**12. Describe how list values and string values are identical.**"
   ]
  },
  {
   "cell_type": "markdown",
   "metadata": {},
   "source": [
    "Both List and String are Sequences.Both can be passed to len() function,have indexes and slices,used in for loop.Both can be concatenated and replicated.List and string used with in and not operators."
   ]
  },
  {
   "cell_type": "markdown",
   "metadata": {},
   "source": [
    "**13. What's the difference between tuples and lists?**"
   ]
  },
  {
   "cell_type": "markdown",
   "metadata": {},
   "source": [
    "Lists are mutable,indexable and slicable.List elements are stored in [] bracket.List values can be added,removed or changed.\n",
    "<br>\n",
    "Tuple is immutable but indexable and slicable.Tuples values can not be changed at all.Tuples are represented in parentheses ()."
   ]
  },
  {
   "cell_type": "markdown",
   "metadata": {},
   "source": [
    "**14. How do you type a tuple value that only contains the integer 42?**"
   ]
  },
  {
   "cell_type": "markdown",
   "metadata": {},
   "source": [
    "To create a tuple with only one item, you have add a comma after the item, unless Python will not recognize the variable as a tuple."
   ]
  },
  {
   "cell_type": "code",
   "execution_count": 36,
   "metadata": {},
   "outputs": [
    {
     "name": "stdout",
     "output_type": "stream",
     "text": [
      "<class 'int'>\n",
      "<class 'tuple'>\n"
     ]
    }
   ],
   "source": [
    "tup1=(42)\n",
    "tup2=(42,)\n",
    "print(type(tup1))\n",
    "print(type(tup2))"
   ]
  },
  {
   "cell_type": "markdown",
   "metadata": {},
   "source": [
    "**15. How do you get a list value's tuple form? How do you get a tuple value's list form?**"
   ]
  },
  {
   "cell_type": "markdown",
   "metadata": {},
   "source": [
    "To convert the Python list to a tuple, use the tuple() function\n",
    "<br>\n",
    "To convert the Python tuple to a list, use the list() function"
   ]
  },
  {
   "cell_type": "code",
   "execution_count": 1,
   "metadata": {},
   "outputs": [
    {
     "name": "stdout",
     "output_type": "stream",
     "text": [
      "('banana', 'apple', 'mango', 'cherry', 'plum')\n",
      "<class 'tuple'>\n"
     ]
    }
   ],
   "source": [
    "#conver list to tuple\n",
    "\n",
    "list1=['banana','apple','mango','cherry','plum']\n",
    "tuple1=tuple(list1)\n",
    "\n",
    "print(tuple1)\n",
    "print(type(tuple1))"
   ]
  },
  {
   "cell_type": "code",
   "execution_count": 2,
   "metadata": {},
   "outputs": [
    {
     "name": "stdout",
     "output_type": "stream",
     "text": [
      "['xyz', 'zara', 'abc']\n",
      "<class 'list'>\n"
     ]
    }
   ],
   "source": [
    "#convert tuple to list\n",
    "tuple2=('xyz', 'zara', 'abc')\n",
    "\n",
    "list2=list(tuple2)\n",
    "\n",
    "print(list2)\n",
    "print(type(list2))"
   ]
  },
  {
   "cell_type": "markdown",
   "metadata": {},
   "source": [
    "**16. Variables that \"contain\" list values are not necessarily lists themselves. Instead, what do they contain?**"
   ]
  },
  {
   "cell_type": "markdown",
   "metadata": {},
   "source": [
    "Variables will contain references to list values rather than list themselves.\n",
    "<br>\n",
    "When you assign a list to a variable, you are actually assigning a list reference to the variable."
   ]
  },
  {
   "cell_type": "code",
   "execution_count": 3,
   "metadata": {},
   "outputs": [
    {
     "name": "stdout",
     "output_type": "stream",
     "text": [
      "[1, 'hello', 3, 4, 5]\n",
      "[1, 'hello', 3, 4, 5]\n"
     ]
    }
   ],
   "source": [
    "spam=[1,2,3,4,5]\n",
    "cheese=spam\n",
    "cheese[1]='hello'\n",
    "\n",
    "print(spam)\n",
    "print(cheese)"
   ]
  },
  {
   "cell_type": "markdown",
   "metadata": {},
   "source": [
    "This means the values stored in spam and cheese now both refer to the same list."
   ]
  },
  {
   "cell_type": "markdown",
   "metadata": {},
   "source": [
    "**17. How do you distinguish between copy.copy() and copy.deepcopy()?**"
   ]
  },
  {
   "cell_type": "markdown",
   "metadata": {},
   "source": [
    "The copy() will return shallow copy of list ,while deepcopy() will return deep copy of list.\n",
    "<br>\n",
    "In shallow copy if we change any nested object in old list the changes will appear in new list.\n",
    "<br>\n",
    "In deep copy  if you make changes to any nested objects in  old list you will see no changes in new list."
   ]
  },
  {
   "cell_type": "code",
   "execution_count": 5,
   "metadata": {},
   "outputs": [
    {
     "name": "stdout",
     "output_type": "stream",
     "text": [
      "old_list --> [[1, 1, 1], [2, 'AA', 2], [3, 3, 3]]\n",
      "new_list --> [[1, 1, 1], [2, 'AA', 2], [3, 3, 3]]\n"
     ]
    }
   ],
   "source": [
    "#shallow copy\n",
    "import copy\n",
    "\n",
    "old_list=[[1, 1, 1], [2, 2, 2], [3, 3, 3]]\n",
    "new_list=copy.copy(old_list)\n",
    "\n",
    "old_list[1][1] = 'AA'\n",
    "\n",
    "\n",
    "print(\"old_list -->\",old_list)\n",
    "print(\"new_list -->\",new_list)\n"
   ]
  },
  {
   "cell_type": "code",
   "execution_count": 6,
   "metadata": {},
   "outputs": [
    {
     "name": "stdout",
     "output_type": "stream",
     "text": [
      "old_list --> [[1, 1, 1], [2, 'AA', 2], [3, 3, 3]]\n",
      "new_list --> [[1, 1, 1], [2, 2, 2], [3, 3, 3]]\n"
     ]
    }
   ],
   "source": [
    "#deep copy\n",
    "\n",
    "import copy\n",
    "\n",
    "old_list=[[1, 1, 1], [2, 2, 2], [3, 3, 3]]\n",
    "new_list=copy.deepcopy(old_list)\n",
    "\n",
    "old_list[1][1] = 'AA'\n",
    "\n",
    "\n",
    "print(\"old_list -->\",old_list)\n",
    "print(\"new_list -->\",new_list)"
   ]
  },
  {
   "cell_type": "code",
   "execution_count": null,
   "metadata": {},
   "outputs": [],
   "source": []
  }
 ],
 "metadata": {
  "kernelspec": {
   "display_name": "Python 3",
   "language": "python",
   "name": "python3"
  },
  "language_info": {
   "codemirror_mode": {
    "name": "ipython",
    "version": 3
   },
   "file_extension": ".py",
   "mimetype": "text/x-python",
   "name": "python",
   "nbconvert_exporter": "python",
   "pygments_lexer": "ipython3",
   "version": "3.6.5"
  }
 },
 "nbformat": 4,
 "nbformat_minor": 2
}
